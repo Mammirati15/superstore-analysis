{
 "cells": [
  {
   "cell_type": "markdown",
   "metadata": {},
   "source": [
    "ANALYZING SUPERSTORE SALES DATA"
   ]
  },
  {
   "cell_type": "code",
   "execution_count": 3,
   "metadata": {},
   "outputs": [],
   "source": [
    "import pandas as pd\n",
    "import matplotlib.pyplot as plt\n",
    "import seaborn as sns\n",
    "import numpy as np"
   ]
  },
  {
   "cell_type": "code",
   "execution_count": 4,
   "metadata": {},
   "outputs": [],
   "source": [
    "original_df = pd.read_csv('../data/SuperStoreOrders.csv')"
   ]
  },
  {
   "cell_type": "code",
   "execution_count": 5,
   "metadata": {},
   "outputs": [
    {
     "data": {
      "text/html": [
       "<div>\n",
       "<style scoped>\n",
       "    .dataframe tbody tr th:only-of-type {\n",
       "        vertical-align: middle;\n",
       "    }\n",
       "\n",
       "    .dataframe tbody tr th {\n",
       "        vertical-align: top;\n",
       "    }\n",
       "\n",
       "    .dataframe thead th {\n",
       "        text-align: right;\n",
       "    }\n",
       "</style>\n",
       "<table border=\"1\" class=\"dataframe\">\n",
       "  <thead>\n",
       "    <tr style=\"text-align: right;\">\n",
       "      <th></th>\n",
       "      <th>order_id</th>\n",
       "      <th>order_date</th>\n",
       "      <th>ship_date</th>\n",
       "      <th>ship_mode</th>\n",
       "      <th>customer_name</th>\n",
       "      <th>segment</th>\n",
       "      <th>state</th>\n",
       "      <th>country</th>\n",
       "      <th>market</th>\n",
       "      <th>region</th>\n",
       "      <th>...</th>\n",
       "      <th>category</th>\n",
       "      <th>sub_category</th>\n",
       "      <th>product_name</th>\n",
       "      <th>sales</th>\n",
       "      <th>quantity</th>\n",
       "      <th>discount</th>\n",
       "      <th>profit</th>\n",
       "      <th>shipping_cost</th>\n",
       "      <th>order_priority</th>\n",
       "      <th>year</th>\n",
       "    </tr>\n",
       "  </thead>\n",
       "  <tbody>\n",
       "    <tr>\n",
       "      <th>0</th>\n",
       "      <td>AG-2011-2040</td>\n",
       "      <td>1/1/2011</td>\n",
       "      <td>6/1/2011</td>\n",
       "      <td>Standard Class</td>\n",
       "      <td>Toby Braunhardt</td>\n",
       "      <td>Consumer</td>\n",
       "      <td>Constantine</td>\n",
       "      <td>Algeria</td>\n",
       "      <td>Africa</td>\n",
       "      <td>Africa</td>\n",
       "      <td>...</td>\n",
       "      <td>Office Supplies</td>\n",
       "      <td>Storage</td>\n",
       "      <td>Tenex Lockers, Blue</td>\n",
       "      <td>408</td>\n",
       "      <td>2</td>\n",
       "      <td>0.0</td>\n",
       "      <td>106.140</td>\n",
       "      <td>35.46</td>\n",
       "      <td>Medium</td>\n",
       "      <td>2011</td>\n",
       "    </tr>\n",
       "    <tr>\n",
       "      <th>1</th>\n",
       "      <td>IN-2011-47883</td>\n",
       "      <td>1/1/2011</td>\n",
       "      <td>8/1/2011</td>\n",
       "      <td>Standard Class</td>\n",
       "      <td>Joseph Holt</td>\n",
       "      <td>Consumer</td>\n",
       "      <td>New South Wales</td>\n",
       "      <td>Australia</td>\n",
       "      <td>APAC</td>\n",
       "      <td>Oceania</td>\n",
       "      <td>...</td>\n",
       "      <td>Office Supplies</td>\n",
       "      <td>Supplies</td>\n",
       "      <td>Acme Trimmer, High Speed</td>\n",
       "      <td>120</td>\n",
       "      <td>3</td>\n",
       "      <td>0.1</td>\n",
       "      <td>36.036</td>\n",
       "      <td>9.72</td>\n",
       "      <td>Medium</td>\n",
       "      <td>2011</td>\n",
       "    </tr>\n",
       "    <tr>\n",
       "      <th>2</th>\n",
       "      <td>HU-2011-1220</td>\n",
       "      <td>1/1/2011</td>\n",
       "      <td>5/1/2011</td>\n",
       "      <td>Second Class</td>\n",
       "      <td>Annie Thurman</td>\n",
       "      <td>Consumer</td>\n",
       "      <td>Budapest</td>\n",
       "      <td>Hungary</td>\n",
       "      <td>EMEA</td>\n",
       "      <td>EMEA</td>\n",
       "      <td>...</td>\n",
       "      <td>Office Supplies</td>\n",
       "      <td>Storage</td>\n",
       "      <td>Tenex Box, Single Width</td>\n",
       "      <td>66</td>\n",
       "      <td>4</td>\n",
       "      <td>0.0</td>\n",
       "      <td>29.640</td>\n",
       "      <td>8.17</td>\n",
       "      <td>High</td>\n",
       "      <td>2011</td>\n",
       "    </tr>\n",
       "    <tr>\n",
       "      <th>3</th>\n",
       "      <td>IT-2011-3647632</td>\n",
       "      <td>1/1/2011</td>\n",
       "      <td>5/1/2011</td>\n",
       "      <td>Second Class</td>\n",
       "      <td>Eugene Moren</td>\n",
       "      <td>Home Office</td>\n",
       "      <td>Stockholm</td>\n",
       "      <td>Sweden</td>\n",
       "      <td>EU</td>\n",
       "      <td>North</td>\n",
       "      <td>...</td>\n",
       "      <td>Office Supplies</td>\n",
       "      <td>Paper</td>\n",
       "      <td>Enermax Note Cards, Premium</td>\n",
       "      <td>45</td>\n",
       "      <td>3</td>\n",
       "      <td>0.5</td>\n",
       "      <td>-26.055</td>\n",
       "      <td>4.82</td>\n",
       "      <td>High</td>\n",
       "      <td>2011</td>\n",
       "    </tr>\n",
       "    <tr>\n",
       "      <th>4</th>\n",
       "      <td>IN-2011-47883</td>\n",
       "      <td>1/1/2011</td>\n",
       "      <td>8/1/2011</td>\n",
       "      <td>Standard Class</td>\n",
       "      <td>Joseph Holt</td>\n",
       "      <td>Consumer</td>\n",
       "      <td>New South Wales</td>\n",
       "      <td>Australia</td>\n",
       "      <td>APAC</td>\n",
       "      <td>Oceania</td>\n",
       "      <td>...</td>\n",
       "      <td>Furniture</td>\n",
       "      <td>Furnishings</td>\n",
       "      <td>Eldon Light Bulb, Duo Pack</td>\n",
       "      <td>114</td>\n",
       "      <td>5</td>\n",
       "      <td>0.1</td>\n",
       "      <td>37.770</td>\n",
       "      <td>4.70</td>\n",
       "      <td>Medium</td>\n",
       "      <td>2011</td>\n",
       "    </tr>\n",
       "  </tbody>\n",
       "</table>\n",
       "<p>5 rows × 21 columns</p>\n",
       "</div>"
      ],
      "text/plain": [
       "          order_id order_date ship_date       ship_mode    customer_name  \\\n",
       "0     AG-2011-2040   1/1/2011  6/1/2011  Standard Class  Toby Braunhardt   \n",
       "1    IN-2011-47883   1/1/2011  8/1/2011  Standard Class      Joseph Holt   \n",
       "2     HU-2011-1220   1/1/2011  5/1/2011    Second Class    Annie Thurman   \n",
       "3  IT-2011-3647632   1/1/2011  5/1/2011    Second Class     Eugene Moren   \n",
       "4    IN-2011-47883   1/1/2011  8/1/2011  Standard Class      Joseph Holt   \n",
       "\n",
       "       segment            state    country  market   region  ...  \\\n",
       "0     Consumer      Constantine    Algeria  Africa   Africa  ...   \n",
       "1     Consumer  New South Wales  Australia    APAC  Oceania  ...   \n",
       "2     Consumer         Budapest    Hungary    EMEA     EMEA  ...   \n",
       "3  Home Office        Stockholm     Sweden      EU    North  ...   \n",
       "4     Consumer  New South Wales  Australia    APAC  Oceania  ...   \n",
       "\n",
       "          category sub_category                 product_name sales quantity  \\\n",
       "0  Office Supplies      Storage          Tenex Lockers, Blue   408        2   \n",
       "1  Office Supplies     Supplies     Acme Trimmer, High Speed   120        3   \n",
       "2  Office Supplies      Storage      Tenex Box, Single Width    66        4   \n",
       "3  Office Supplies        Paper  Enermax Note Cards, Premium    45        3   \n",
       "4        Furniture  Furnishings   Eldon Light Bulb, Duo Pack   114        5   \n",
       "\n",
       "   discount   profit  shipping_cost  order_priority  year  \n",
       "0       0.0  106.140          35.46          Medium  2011  \n",
       "1       0.1   36.036           9.72          Medium  2011  \n",
       "2       0.0   29.640           8.17            High  2011  \n",
       "3       0.5  -26.055           4.82            High  2011  \n",
       "4       0.1   37.770           4.70          Medium  2011  \n",
       "\n",
       "[5 rows x 21 columns]"
      ]
     },
     "execution_count": 5,
     "metadata": {},
     "output_type": "execute_result"
    }
   ],
   "source": [
    "original_df.head()"
   ]
  },
  {
   "cell_type": "code",
   "execution_count": 4,
   "metadata": {},
   "outputs": [
    {
     "data": {
      "text/html": [
       "<div>\n",
       "<style scoped>\n",
       "    .dataframe tbody tr th:only-of-type {\n",
       "        vertical-align: middle;\n",
       "    }\n",
       "\n",
       "    .dataframe tbody tr th {\n",
       "        vertical-align: top;\n",
       "    }\n",
       "\n",
       "    .dataframe thead th {\n",
       "        text-align: right;\n",
       "    }\n",
       "</style>\n",
       "<table border=\"1\" class=\"dataframe\">\n",
       "  <thead>\n",
       "    <tr style=\"text-align: right;\">\n",
       "      <th></th>\n",
       "      <th>order_id</th>\n",
       "      <th>order_date</th>\n",
       "      <th>ship_date</th>\n",
       "      <th>ship_mode</th>\n",
       "      <th>customer_name</th>\n",
       "      <th>segment</th>\n",
       "      <th>state</th>\n",
       "      <th>country</th>\n",
       "      <th>market</th>\n",
       "      <th>region</th>\n",
       "      <th>...</th>\n",
       "      <th>category</th>\n",
       "      <th>sub_category</th>\n",
       "      <th>product_name</th>\n",
       "      <th>sales</th>\n",
       "      <th>quantity</th>\n",
       "      <th>discount</th>\n",
       "      <th>profit</th>\n",
       "      <th>shipping_cost</th>\n",
       "      <th>order_priority</th>\n",
       "      <th>year</th>\n",
       "    </tr>\n",
       "  </thead>\n",
       "  <tbody>\n",
       "    <tr>\n",
       "      <th>51285</th>\n",
       "      <td>CA-2014-115427</td>\n",
       "      <td>31-12-2014</td>\n",
       "      <td>4/1/2015</td>\n",
       "      <td>Standard Class</td>\n",
       "      <td>Erica Bern</td>\n",
       "      <td>Corporate</td>\n",
       "      <td>California</td>\n",
       "      <td>United States</td>\n",
       "      <td>US</td>\n",
       "      <td>West</td>\n",
       "      <td>...</td>\n",
       "      <td>Office Supplies</td>\n",
       "      <td>Binders</td>\n",
       "      <td>Cardinal Slant-D Ring Binder, Heavy Gauge Vinyl</td>\n",
       "      <td>14</td>\n",
       "      <td>2</td>\n",
       "      <td>0.2</td>\n",
       "      <td>4.5188</td>\n",
       "      <td>0.89</td>\n",
       "      <td>Medium</td>\n",
       "      <td>2014</td>\n",
       "    </tr>\n",
       "    <tr>\n",
       "      <th>51286</th>\n",
       "      <td>MO-2014-2560</td>\n",
       "      <td>31-12-2014</td>\n",
       "      <td>5/1/2015</td>\n",
       "      <td>Standard Class</td>\n",
       "      <td>Liz Preis</td>\n",
       "      <td>Consumer</td>\n",
       "      <td>Souss-Massa-Draâ</td>\n",
       "      <td>Morocco</td>\n",
       "      <td>Africa</td>\n",
       "      <td>Africa</td>\n",
       "      <td>...</td>\n",
       "      <td>Office Supplies</td>\n",
       "      <td>Binders</td>\n",
       "      <td>Wilson Jones Hole Reinforcements, Clear</td>\n",
       "      <td>4</td>\n",
       "      <td>1</td>\n",
       "      <td>0.0</td>\n",
       "      <td>0.4200</td>\n",
       "      <td>0.49</td>\n",
       "      <td>Medium</td>\n",
       "      <td>2014</td>\n",
       "    </tr>\n",
       "    <tr>\n",
       "      <th>51287</th>\n",
       "      <td>MX-2014-110527</td>\n",
       "      <td>31-12-2014</td>\n",
       "      <td>2/1/2015</td>\n",
       "      <td>Second Class</td>\n",
       "      <td>Charlotte Melton</td>\n",
       "      <td>Consumer</td>\n",
       "      <td>Managua</td>\n",
       "      <td>Nicaragua</td>\n",
       "      <td>LATAM</td>\n",
       "      <td>Central</td>\n",
       "      <td>...</td>\n",
       "      <td>Office Supplies</td>\n",
       "      <td>Labels</td>\n",
       "      <td>Hon Color Coded Labels, 5000 Label Set</td>\n",
       "      <td>26</td>\n",
       "      <td>3</td>\n",
       "      <td>0.0</td>\n",
       "      <td>12.3600</td>\n",
       "      <td>0.35</td>\n",
       "      <td>Medium</td>\n",
       "      <td>2014</td>\n",
       "    </tr>\n",
       "    <tr>\n",
       "      <th>51288</th>\n",
       "      <td>MX-2014-114783</td>\n",
       "      <td>31-12-2014</td>\n",
       "      <td>6/1/2015</td>\n",
       "      <td>Standard Class</td>\n",
       "      <td>Tamara Dahlen</td>\n",
       "      <td>Consumer</td>\n",
       "      <td>Chihuahua</td>\n",
       "      <td>Mexico</td>\n",
       "      <td>LATAM</td>\n",
       "      <td>North</td>\n",
       "      <td>...</td>\n",
       "      <td>Office Supplies</td>\n",
       "      <td>Labels</td>\n",
       "      <td>Hon Legal Exhibit Labels, Alphabetical</td>\n",
       "      <td>7</td>\n",
       "      <td>1</td>\n",
       "      <td>0.0</td>\n",
       "      <td>0.5600</td>\n",
       "      <td>0.20</td>\n",
       "      <td>Medium</td>\n",
       "      <td>2014</td>\n",
       "    </tr>\n",
       "    <tr>\n",
       "      <th>51289</th>\n",
       "      <td>CA-2014-156720</td>\n",
       "      <td>31-12-2014</td>\n",
       "      <td>4/1/2015</td>\n",
       "      <td>Standard Class</td>\n",
       "      <td>Jill Matthias</td>\n",
       "      <td>Consumer</td>\n",
       "      <td>Colorado</td>\n",
       "      <td>United States</td>\n",
       "      <td>US</td>\n",
       "      <td>West</td>\n",
       "      <td>...</td>\n",
       "      <td>Office Supplies</td>\n",
       "      <td>Fasteners</td>\n",
       "      <td>Bagged Rubber Bands</td>\n",
       "      <td>3</td>\n",
       "      <td>3</td>\n",
       "      <td>0.2</td>\n",
       "      <td>-0.6048</td>\n",
       "      <td>0.17</td>\n",
       "      <td>Medium</td>\n",
       "      <td>2014</td>\n",
       "    </tr>\n",
       "  </tbody>\n",
       "</table>\n",
       "<p>5 rows × 21 columns</p>\n",
       "</div>"
      ],
      "text/plain": [
       "             order_id  order_date ship_date       ship_mode     customer_name  \\\n",
       "51285  CA-2014-115427  31-12-2014  4/1/2015  Standard Class        Erica Bern   \n",
       "51286    MO-2014-2560  31-12-2014  5/1/2015  Standard Class         Liz Preis   \n",
       "51287  MX-2014-110527  31-12-2014  2/1/2015    Second Class  Charlotte Melton   \n",
       "51288  MX-2014-114783  31-12-2014  6/1/2015  Standard Class     Tamara Dahlen   \n",
       "51289  CA-2014-156720  31-12-2014  4/1/2015  Standard Class     Jill Matthias   \n",
       "\n",
       "         segment             state        country  market   region  ...  \\\n",
       "51285  Corporate        California  United States      US     West  ...   \n",
       "51286   Consumer  Souss-Massa-Draâ        Morocco  Africa   Africa  ...   \n",
       "51287   Consumer           Managua      Nicaragua   LATAM  Central  ...   \n",
       "51288   Consumer         Chihuahua         Mexico   LATAM    North  ...   \n",
       "51289   Consumer          Colorado  United States      US     West  ...   \n",
       "\n",
       "              category sub_category  \\\n",
       "51285  Office Supplies      Binders   \n",
       "51286  Office Supplies      Binders   \n",
       "51287  Office Supplies       Labels   \n",
       "51288  Office Supplies       Labels   \n",
       "51289  Office Supplies    Fasteners   \n",
       "\n",
       "                                          product_name sales quantity  \\\n",
       "51285  Cardinal Slant-D Ring Binder, Heavy Gauge Vinyl    14        2   \n",
       "51286          Wilson Jones Hole Reinforcements, Clear     4        1   \n",
       "51287           Hon Color Coded Labels, 5000 Label Set    26        3   \n",
       "51288           Hon Legal Exhibit Labels, Alphabetical     7        1   \n",
       "51289                              Bagged Rubber Bands     3        3   \n",
       "\n",
       "       discount   profit  shipping_cost  order_priority  year  \n",
       "51285       0.2   4.5188           0.89          Medium  2014  \n",
       "51286       0.0   0.4200           0.49          Medium  2014  \n",
       "51287       0.0  12.3600           0.35          Medium  2014  \n",
       "51288       0.0   0.5600           0.20          Medium  2014  \n",
       "51289       0.2  -0.6048           0.17          Medium  2014  \n",
       "\n",
       "[5 rows x 21 columns]"
      ]
     },
     "execution_count": 4,
     "metadata": {},
     "output_type": "execute_result"
    }
   ],
   "source": [
    "original_df.tail()"
   ]
  },
  {
   "cell_type": "code",
   "execution_count": 6,
   "metadata": {},
   "outputs": [
    {
     "data": {
      "text/plain": [
       "(51290, 21)"
      ]
     },
     "execution_count": 6,
     "metadata": {},
     "output_type": "execute_result"
    }
   ],
   "source": [
    "original_df.shape"
   ]
  },
  {
   "cell_type": "code",
   "execution_count": 7,
   "metadata": {},
   "outputs": [
    {
     "data": {
      "text/plain": [
       "Index(['order_id', 'order_date', 'ship_date', 'ship_mode', 'customer_name',\n",
       "       'segment', 'state', 'country', 'market', 'region', 'product_id',\n",
       "       'category', 'sub_category', 'product_name', 'sales', 'quantity',\n",
       "       'discount', 'profit', 'shipping_cost', 'order_priority', 'year'],\n",
       "      dtype='object')"
      ]
     },
     "execution_count": 7,
     "metadata": {},
     "output_type": "execute_result"
    }
   ],
   "source": [
    "original_df.columns"
   ]
  },
  {
   "cell_type": "code",
   "execution_count": 8,
   "metadata": {},
   "outputs": [
    {
     "data": {
      "text/plain": [
       "<bound method DataFrame.info of               order_id  order_date ship_date       ship_mode  \\\n",
       "0         AG-2011-2040    1/1/2011  6/1/2011  Standard Class   \n",
       "1        IN-2011-47883    1/1/2011  8/1/2011  Standard Class   \n",
       "2         HU-2011-1220    1/1/2011  5/1/2011    Second Class   \n",
       "3      IT-2011-3647632    1/1/2011  5/1/2011    Second Class   \n",
       "4        IN-2011-47883    1/1/2011  8/1/2011  Standard Class   \n",
       "...                ...         ...       ...             ...   \n",
       "51285   CA-2014-115427  31-12-2014  4/1/2015  Standard Class   \n",
       "51286     MO-2014-2560  31-12-2014  5/1/2015  Standard Class   \n",
       "51287   MX-2014-110527  31-12-2014  2/1/2015    Second Class   \n",
       "51288   MX-2014-114783  31-12-2014  6/1/2015  Standard Class   \n",
       "51289   CA-2014-156720  31-12-2014  4/1/2015  Standard Class   \n",
       "\n",
       "          customer_name      segment             state        country  market  \\\n",
       "0       Toby Braunhardt     Consumer       Constantine        Algeria  Africa   \n",
       "1           Joseph Holt     Consumer   New South Wales      Australia    APAC   \n",
       "2         Annie Thurman     Consumer          Budapest        Hungary    EMEA   \n",
       "3          Eugene Moren  Home Office         Stockholm         Sweden      EU   \n",
       "4           Joseph Holt     Consumer   New South Wales      Australia    APAC   \n",
       "...                 ...          ...               ...            ...     ...   \n",
       "51285        Erica Bern    Corporate        California  United States      US   \n",
       "51286         Liz Preis     Consumer  Souss-Massa-Draâ        Morocco  Africa   \n",
       "51287  Charlotte Melton     Consumer           Managua      Nicaragua   LATAM   \n",
       "51288     Tamara Dahlen     Consumer         Chihuahua         Mexico   LATAM   \n",
       "51289     Jill Matthias     Consumer          Colorado  United States      US   \n",
       "\n",
       "        region  ...         category sub_category  \\\n",
       "0       Africa  ...  Office Supplies      Storage   \n",
       "1      Oceania  ...  Office Supplies     Supplies   \n",
       "2         EMEA  ...  Office Supplies      Storage   \n",
       "3        North  ...  Office Supplies        Paper   \n",
       "4      Oceania  ...        Furniture  Furnishings   \n",
       "...        ...  ...              ...          ...   \n",
       "51285     West  ...  Office Supplies      Binders   \n",
       "51286   Africa  ...  Office Supplies      Binders   \n",
       "51287  Central  ...  Office Supplies       Labels   \n",
       "51288    North  ...  Office Supplies       Labels   \n",
       "51289     West  ...  Office Supplies    Fasteners   \n",
       "\n",
       "                                          product_name sales quantity  \\\n",
       "0                                  Tenex Lockers, Blue   408        2   \n",
       "1                             Acme Trimmer, High Speed   120        3   \n",
       "2                              Tenex Box, Single Width    66        4   \n",
       "3                          Enermax Note Cards, Premium    45        3   \n",
       "4                           Eldon Light Bulb, Duo Pack   114        5   \n",
       "...                                                ...   ...      ...   \n",
       "51285  Cardinal Slant-D Ring Binder, Heavy Gauge Vinyl    14        2   \n",
       "51286          Wilson Jones Hole Reinforcements, Clear     4        1   \n",
       "51287           Hon Color Coded Labels, 5000 Label Set    26        3   \n",
       "51288           Hon Legal Exhibit Labels, Alphabetical     7        1   \n",
       "51289                              Bagged Rubber Bands     3        3   \n",
       "\n",
       "       discount    profit  shipping_cost  order_priority  year  \n",
       "0           0.0  106.1400          35.46          Medium  2011  \n",
       "1           0.1   36.0360           9.72          Medium  2011  \n",
       "2           0.0   29.6400           8.17            High  2011  \n",
       "3           0.5  -26.0550           4.82            High  2011  \n",
       "4           0.1   37.7700           4.70          Medium  2011  \n",
       "...         ...       ...            ...             ...   ...  \n",
       "51285       0.2    4.5188           0.89          Medium  2014  \n",
       "51286       0.0    0.4200           0.49          Medium  2014  \n",
       "51287       0.0   12.3600           0.35          Medium  2014  \n",
       "51288       0.0    0.5600           0.20          Medium  2014  \n",
       "51289       0.2   -0.6048           0.17          Medium  2014  \n",
       "\n",
       "[51290 rows x 21 columns]>"
      ]
     },
     "execution_count": 8,
     "metadata": {},
     "output_type": "execute_result"
    }
   ],
   "source": [
    "original_df.info"
   ]
  },
  {
   "cell_type": "code",
   "execution_count": 9,
   "metadata": {},
   "outputs": [
    {
     "data": {
      "text/plain": [
       "order_id           object\n",
       "order_date         object\n",
       "ship_date          object\n",
       "ship_mode          object\n",
       "customer_name      object\n",
       "segment            object\n",
       "state              object\n",
       "country            object\n",
       "market             object\n",
       "region             object\n",
       "product_id         object\n",
       "category           object\n",
       "sub_category       object\n",
       "product_name       object\n",
       "sales              object\n",
       "quantity            int64\n",
       "discount          float64\n",
       "profit            float64\n",
       "shipping_cost     float64\n",
       "order_priority     object\n",
       "year                int64\n",
       "dtype: object"
      ]
     },
     "execution_count": 9,
     "metadata": {},
     "output_type": "execute_result"
    }
   ],
   "source": [
    "original_df.dtypes"
   ]
  },
  {
   "cell_type": "code",
   "execution_count": 10,
   "metadata": {},
   "outputs": [
    {
     "data": {
      "text/plain": [
       "order_id          0\n",
       "order_date        0\n",
       "ship_date         0\n",
       "ship_mode         0\n",
       "customer_name     0\n",
       "segment           0\n",
       "state             0\n",
       "country           0\n",
       "market            0\n",
       "region            0\n",
       "product_id        0\n",
       "category          0\n",
       "sub_category      0\n",
       "product_name      0\n",
       "sales             0\n",
       "quantity          0\n",
       "discount          0\n",
       "profit            0\n",
       "shipping_cost     0\n",
       "order_priority    0\n",
       "year              0\n",
       "dtype: int64"
      ]
     },
     "execution_count": 10,
     "metadata": {},
     "output_type": "execute_result"
    }
   ],
   "source": [
    "original_df.isna().sum()"
   ]
  },
  {
   "cell_type": "code",
   "execution_count": 11,
   "metadata": {},
   "outputs": [],
   "source": [
    "#Use a quick eda script for summary\n",
    "\n",
    "def quick_eda(original_df, name=\"Dataframe\"):\n",
    "    print(f\"Shape of {name}: {original_df.shape}\")\n",
    "    print(\"\\n First 5 rows:\")\n",
    "    display(original_df.head())\n",
    "\n",
    "    print(\"\\n Data Types and Non-null Counts:\")\n",
    "    display(original_df.info())\n",
    "\n",
    "    print(\"\\n Missing Values Summary:\")\n",
    "    display(original_df.isna().sum()[original_df.isna().sum() > 5])\n",
    "\n",
    "    print(\"\\n Summary Stats (Numberic):\")\n",
    "    display(original_df.describe().T)\n",
    "\n",
    "    print(\"\\n Unique Values counts:\")\n",
    "    display(original_df.nunique())\n",
    "\n",
    "    print(\"\\n Sample Value Counts for Categorical Columns:\")\n",
    "    cat_cols = original_df.select_dtypes(include='object').columns\n",
    "    for col in cat_cols:\n",
    "        print(f\"\\n {col} - top 5:\")\n",
    "        print(original_df[col].value_counts().head())"
   ]
  },
  {
   "cell_type": "code",
   "execution_count": 12,
   "metadata": {},
   "outputs": [
    {
     "name": "stdout",
     "output_type": "stream",
     "text": [
      "Shape of SuperStoreOrders: (51290, 21)\n",
      "\n",
      " First 5 rows:\n"
     ]
    },
    {
     "data": {
      "text/html": [
       "<div>\n",
       "<style scoped>\n",
       "    .dataframe tbody tr th:only-of-type {\n",
       "        vertical-align: middle;\n",
       "    }\n",
       "\n",
       "    .dataframe tbody tr th {\n",
       "        vertical-align: top;\n",
       "    }\n",
       "\n",
       "    .dataframe thead th {\n",
       "        text-align: right;\n",
       "    }\n",
       "</style>\n",
       "<table border=\"1\" class=\"dataframe\">\n",
       "  <thead>\n",
       "    <tr style=\"text-align: right;\">\n",
       "      <th></th>\n",
       "      <th>order_id</th>\n",
       "      <th>order_date</th>\n",
       "      <th>ship_date</th>\n",
       "      <th>ship_mode</th>\n",
       "      <th>customer_name</th>\n",
       "      <th>segment</th>\n",
       "      <th>state</th>\n",
       "      <th>country</th>\n",
       "      <th>market</th>\n",
       "      <th>region</th>\n",
       "      <th>...</th>\n",
       "      <th>category</th>\n",
       "      <th>sub_category</th>\n",
       "      <th>product_name</th>\n",
       "      <th>sales</th>\n",
       "      <th>quantity</th>\n",
       "      <th>discount</th>\n",
       "      <th>profit</th>\n",
       "      <th>shipping_cost</th>\n",
       "      <th>order_priority</th>\n",
       "      <th>year</th>\n",
       "    </tr>\n",
       "  </thead>\n",
       "  <tbody>\n",
       "    <tr>\n",
       "      <th>0</th>\n",
       "      <td>AG-2011-2040</td>\n",
       "      <td>1/1/2011</td>\n",
       "      <td>6/1/2011</td>\n",
       "      <td>Standard Class</td>\n",
       "      <td>Toby Braunhardt</td>\n",
       "      <td>Consumer</td>\n",
       "      <td>Constantine</td>\n",
       "      <td>Algeria</td>\n",
       "      <td>Africa</td>\n",
       "      <td>Africa</td>\n",
       "      <td>...</td>\n",
       "      <td>Office Supplies</td>\n",
       "      <td>Storage</td>\n",
       "      <td>Tenex Lockers, Blue</td>\n",
       "      <td>408</td>\n",
       "      <td>2</td>\n",
       "      <td>0.0</td>\n",
       "      <td>106.140</td>\n",
       "      <td>35.46</td>\n",
       "      <td>Medium</td>\n",
       "      <td>2011</td>\n",
       "    </tr>\n",
       "    <tr>\n",
       "      <th>1</th>\n",
       "      <td>IN-2011-47883</td>\n",
       "      <td>1/1/2011</td>\n",
       "      <td>8/1/2011</td>\n",
       "      <td>Standard Class</td>\n",
       "      <td>Joseph Holt</td>\n",
       "      <td>Consumer</td>\n",
       "      <td>New South Wales</td>\n",
       "      <td>Australia</td>\n",
       "      <td>APAC</td>\n",
       "      <td>Oceania</td>\n",
       "      <td>...</td>\n",
       "      <td>Office Supplies</td>\n",
       "      <td>Supplies</td>\n",
       "      <td>Acme Trimmer, High Speed</td>\n",
       "      <td>120</td>\n",
       "      <td>3</td>\n",
       "      <td>0.1</td>\n",
       "      <td>36.036</td>\n",
       "      <td>9.72</td>\n",
       "      <td>Medium</td>\n",
       "      <td>2011</td>\n",
       "    </tr>\n",
       "    <tr>\n",
       "      <th>2</th>\n",
       "      <td>HU-2011-1220</td>\n",
       "      <td>1/1/2011</td>\n",
       "      <td>5/1/2011</td>\n",
       "      <td>Second Class</td>\n",
       "      <td>Annie Thurman</td>\n",
       "      <td>Consumer</td>\n",
       "      <td>Budapest</td>\n",
       "      <td>Hungary</td>\n",
       "      <td>EMEA</td>\n",
       "      <td>EMEA</td>\n",
       "      <td>...</td>\n",
       "      <td>Office Supplies</td>\n",
       "      <td>Storage</td>\n",
       "      <td>Tenex Box, Single Width</td>\n",
       "      <td>66</td>\n",
       "      <td>4</td>\n",
       "      <td>0.0</td>\n",
       "      <td>29.640</td>\n",
       "      <td>8.17</td>\n",
       "      <td>High</td>\n",
       "      <td>2011</td>\n",
       "    </tr>\n",
       "    <tr>\n",
       "      <th>3</th>\n",
       "      <td>IT-2011-3647632</td>\n",
       "      <td>1/1/2011</td>\n",
       "      <td>5/1/2011</td>\n",
       "      <td>Second Class</td>\n",
       "      <td>Eugene Moren</td>\n",
       "      <td>Home Office</td>\n",
       "      <td>Stockholm</td>\n",
       "      <td>Sweden</td>\n",
       "      <td>EU</td>\n",
       "      <td>North</td>\n",
       "      <td>...</td>\n",
       "      <td>Office Supplies</td>\n",
       "      <td>Paper</td>\n",
       "      <td>Enermax Note Cards, Premium</td>\n",
       "      <td>45</td>\n",
       "      <td>3</td>\n",
       "      <td>0.5</td>\n",
       "      <td>-26.055</td>\n",
       "      <td>4.82</td>\n",
       "      <td>High</td>\n",
       "      <td>2011</td>\n",
       "    </tr>\n",
       "    <tr>\n",
       "      <th>4</th>\n",
       "      <td>IN-2011-47883</td>\n",
       "      <td>1/1/2011</td>\n",
       "      <td>8/1/2011</td>\n",
       "      <td>Standard Class</td>\n",
       "      <td>Joseph Holt</td>\n",
       "      <td>Consumer</td>\n",
       "      <td>New South Wales</td>\n",
       "      <td>Australia</td>\n",
       "      <td>APAC</td>\n",
       "      <td>Oceania</td>\n",
       "      <td>...</td>\n",
       "      <td>Furniture</td>\n",
       "      <td>Furnishings</td>\n",
       "      <td>Eldon Light Bulb, Duo Pack</td>\n",
       "      <td>114</td>\n",
       "      <td>5</td>\n",
       "      <td>0.1</td>\n",
       "      <td>37.770</td>\n",
       "      <td>4.70</td>\n",
       "      <td>Medium</td>\n",
       "      <td>2011</td>\n",
       "    </tr>\n",
       "  </tbody>\n",
       "</table>\n",
       "<p>5 rows × 21 columns</p>\n",
       "</div>"
      ],
      "text/plain": [
       "          order_id order_date ship_date       ship_mode    customer_name  \\\n",
       "0     AG-2011-2040   1/1/2011  6/1/2011  Standard Class  Toby Braunhardt   \n",
       "1    IN-2011-47883   1/1/2011  8/1/2011  Standard Class      Joseph Holt   \n",
       "2     HU-2011-1220   1/1/2011  5/1/2011    Second Class    Annie Thurman   \n",
       "3  IT-2011-3647632   1/1/2011  5/1/2011    Second Class     Eugene Moren   \n",
       "4    IN-2011-47883   1/1/2011  8/1/2011  Standard Class      Joseph Holt   \n",
       "\n",
       "       segment            state    country  market   region  ...  \\\n",
       "0     Consumer      Constantine    Algeria  Africa   Africa  ...   \n",
       "1     Consumer  New South Wales  Australia    APAC  Oceania  ...   \n",
       "2     Consumer         Budapest    Hungary    EMEA     EMEA  ...   \n",
       "3  Home Office        Stockholm     Sweden      EU    North  ...   \n",
       "4     Consumer  New South Wales  Australia    APAC  Oceania  ...   \n",
       "\n",
       "          category sub_category                 product_name sales quantity  \\\n",
       "0  Office Supplies      Storage          Tenex Lockers, Blue   408        2   \n",
       "1  Office Supplies     Supplies     Acme Trimmer, High Speed   120        3   \n",
       "2  Office Supplies      Storage      Tenex Box, Single Width    66        4   \n",
       "3  Office Supplies        Paper  Enermax Note Cards, Premium    45        3   \n",
       "4        Furniture  Furnishings   Eldon Light Bulb, Duo Pack   114        5   \n",
       "\n",
       "   discount   profit  shipping_cost  order_priority  year  \n",
       "0       0.0  106.140          35.46          Medium  2011  \n",
       "1       0.1   36.036           9.72          Medium  2011  \n",
       "2       0.0   29.640           8.17            High  2011  \n",
       "3       0.5  -26.055           4.82            High  2011  \n",
       "4       0.1   37.770           4.70          Medium  2011  \n",
       "\n",
       "[5 rows x 21 columns]"
      ]
     },
     "metadata": {},
     "output_type": "display_data"
    },
    {
     "name": "stdout",
     "output_type": "stream",
     "text": [
      "\n",
      " Data Types and Non-null Counts:\n",
      "<class 'pandas.core.frame.DataFrame'>\n",
      "RangeIndex: 51290 entries, 0 to 51289\n",
      "Data columns (total 21 columns):\n",
      " #   Column          Non-Null Count  Dtype  \n",
      "---  ------          --------------  -----  \n",
      " 0   order_id        51290 non-null  object \n",
      " 1   order_date      51290 non-null  object \n",
      " 2   ship_date       51290 non-null  object \n",
      " 3   ship_mode       51290 non-null  object \n",
      " 4   customer_name   51290 non-null  object \n",
      " 5   segment         51290 non-null  object \n",
      " 6   state           51290 non-null  object \n",
      " 7   country         51290 non-null  object \n",
      " 8   market          51290 non-null  object \n",
      " 9   region          51290 non-null  object \n",
      " 10  product_id      51290 non-null  object \n",
      " 11  category        51290 non-null  object \n",
      " 12  sub_category    51290 non-null  object \n",
      " 13  product_name    51290 non-null  object \n",
      " 14  sales           51290 non-null  object \n",
      " 15  quantity        51290 non-null  int64  \n",
      " 16  discount        51290 non-null  float64\n",
      " 17  profit          51290 non-null  float64\n",
      " 18  shipping_cost   51290 non-null  float64\n",
      " 19  order_priority  51290 non-null  object \n",
      " 20  year            51290 non-null  int64  \n",
      "dtypes: float64(3), int64(2), object(16)\n",
      "memory usage: 8.2+ MB\n"
     ]
    },
    {
     "data": {
      "text/plain": [
       "None"
      ]
     },
     "metadata": {},
     "output_type": "display_data"
    },
    {
     "name": "stdout",
     "output_type": "stream",
     "text": [
      "\n",
      " Missing Values Summary:\n"
     ]
    },
    {
     "data": {
      "text/plain": [
       "Series([], dtype: int64)"
      ]
     },
     "metadata": {},
     "output_type": "display_data"
    },
    {
     "name": "stdout",
     "output_type": "stream",
     "text": [
      "\n",
      " Summary Stats (Numberic):\n"
     ]
    },
    {
     "data": {
      "text/html": [
       "<div>\n",
       "<style scoped>\n",
       "    .dataframe tbody tr th:only-of-type {\n",
       "        vertical-align: middle;\n",
       "    }\n",
       "\n",
       "    .dataframe tbody tr th {\n",
       "        vertical-align: top;\n",
       "    }\n",
       "\n",
       "    .dataframe thead th {\n",
       "        text-align: right;\n",
       "    }\n",
       "</style>\n",
       "<table border=\"1\" class=\"dataframe\">\n",
       "  <thead>\n",
       "    <tr style=\"text-align: right;\">\n",
       "      <th></th>\n",
       "      <th>count</th>\n",
       "      <th>mean</th>\n",
       "      <th>std</th>\n",
       "      <th>min</th>\n",
       "      <th>25%</th>\n",
       "      <th>50%</th>\n",
       "      <th>75%</th>\n",
       "      <th>max</th>\n",
       "    </tr>\n",
       "  </thead>\n",
       "  <tbody>\n",
       "    <tr>\n",
       "      <th>quantity</th>\n",
       "      <td>51290.0</td>\n",
       "      <td>3.476545</td>\n",
       "      <td>2.278766</td>\n",
       "      <td>1.000</td>\n",
       "      <td>2.00</td>\n",
       "      <td>3.00</td>\n",
       "      <td>5.00</td>\n",
       "      <td>14.000</td>\n",
       "    </tr>\n",
       "    <tr>\n",
       "      <th>discount</th>\n",
       "      <td>51290.0</td>\n",
       "      <td>0.142908</td>\n",
       "      <td>0.212280</td>\n",
       "      <td>0.000</td>\n",
       "      <td>0.00</td>\n",
       "      <td>0.00</td>\n",
       "      <td>0.20</td>\n",
       "      <td>0.850</td>\n",
       "    </tr>\n",
       "    <tr>\n",
       "      <th>profit</th>\n",
       "      <td>51290.0</td>\n",
       "      <td>28.641740</td>\n",
       "      <td>174.424113</td>\n",
       "      <td>-6599.978</td>\n",
       "      <td>0.00</td>\n",
       "      <td>9.24</td>\n",
       "      <td>36.81</td>\n",
       "      <td>8399.976</td>\n",
       "    </tr>\n",
       "    <tr>\n",
       "      <th>shipping_cost</th>\n",
       "      <td>51290.0</td>\n",
       "      <td>26.375915</td>\n",
       "      <td>57.296804</td>\n",
       "      <td>0.000</td>\n",
       "      <td>2.61</td>\n",
       "      <td>7.79</td>\n",
       "      <td>24.45</td>\n",
       "      <td>933.570</td>\n",
       "    </tr>\n",
       "    <tr>\n",
       "      <th>year</th>\n",
       "      <td>51290.0</td>\n",
       "      <td>2012.777208</td>\n",
       "      <td>1.098931</td>\n",
       "      <td>2011.000</td>\n",
       "      <td>2012.00</td>\n",
       "      <td>2013.00</td>\n",
       "      <td>2014.00</td>\n",
       "      <td>2014.000</td>\n",
       "    </tr>\n",
       "  </tbody>\n",
       "</table>\n",
       "</div>"
      ],
      "text/plain": [
       "                 count         mean         std       min      25%      50%  \\\n",
       "quantity       51290.0     3.476545    2.278766     1.000     2.00     3.00   \n",
       "discount       51290.0     0.142908    0.212280     0.000     0.00     0.00   \n",
       "profit         51290.0    28.641740  174.424113 -6599.978     0.00     9.24   \n",
       "shipping_cost  51290.0    26.375915   57.296804     0.000     2.61     7.79   \n",
       "year           51290.0  2012.777208    1.098931  2011.000  2012.00  2013.00   \n",
       "\n",
       "                   75%       max  \n",
       "quantity          5.00    14.000  \n",
       "discount          0.20     0.850  \n",
       "profit           36.81  8399.976  \n",
       "shipping_cost    24.45   933.570  \n",
       "year           2014.00  2014.000  "
      ]
     },
     "metadata": {},
     "output_type": "display_data"
    },
    {
     "name": "stdout",
     "output_type": "stream",
     "text": [
      "\n",
      " Unique Values counts:\n"
     ]
    },
    {
     "data": {
      "text/plain": [
       "order_id          25035\n",
       "order_date         1430\n",
       "ship_date          1464\n",
       "ship_mode             4\n",
       "customer_name       795\n",
       "segment               3\n",
       "state              1094\n",
       "country             147\n",
       "market                7\n",
       "region               13\n",
       "product_id        10292\n",
       "category              3\n",
       "sub_category         17\n",
       "product_name       3788\n",
       "sales              2246\n",
       "quantity             14\n",
       "discount             27\n",
       "profit            24575\n",
       "shipping_cost     10037\n",
       "order_priority        4\n",
       "year                  4\n",
       "dtype: int64"
      ]
     },
     "metadata": {},
     "output_type": "display_data"
    },
    {
     "name": "stdout",
     "output_type": "stream",
     "text": [
      "\n",
      " Sample Value Counts for Categorical Columns:\n",
      "\n",
      " order_id - top 5:\n",
      "order_id\n",
      "CA-2014-100111    14\n",
      "MX-2014-166541    13\n",
      "TO-2014-9950      13\n",
      "NI-2014-8880      13\n",
      "IN-2013-42311     13\n",
      "Name: count, dtype: int64\n",
      "\n",
      " order_date - top 5:\n",
      "order_date\n",
      "18-06-2014    135\n",
      "18-11-2014    127\n",
      "3/9/2014      126\n",
      "20-11-2014    118\n",
      "29-12-2014    116\n",
      "Name: count, dtype: int64\n",
      "\n",
      " ship_date - top 5:\n",
      "ship_date\n",
      "22-11-2014    130\n",
      "7/9/2014      115\n",
      "17-11-2014    101\n",
      "7/12/2014     101\n",
      "29-11-2014    100\n",
      "Name: count, dtype: int64\n",
      "\n",
      " ship_mode - top 5:\n",
      "ship_mode\n",
      "Standard Class    30775\n",
      "Second Class      10309\n",
      "First Class        7505\n",
      "Same Day           2701\n",
      "Name: count, dtype: int64\n",
      "\n",
      " customer_name - top 5:\n",
      "customer_name\n",
      "Muhammed Yedwab    108\n",
      "Steven Ward        106\n",
      "Patrick O'Brill    102\n",
      "Bill Eplett        102\n",
      "Gary Hwang         102\n",
      "Name: count, dtype: int64\n",
      "\n",
      " segment - top 5:\n",
      "segment\n",
      "Consumer       26518\n",
      "Corporate      15429\n",
      "Home Office     9343\n",
      "Name: count, dtype: int64\n",
      "\n",
      " state - top 5:\n",
      "state\n",
      "California       2001\n",
      "England          1499\n",
      "New York         1128\n",
      "Texas             985\n",
      "Ile-de-France     981\n",
      "Name: count, dtype: int64\n",
      "\n",
      " country - top 5:\n",
      "country\n",
      "United States    9994\n",
      "Australia        2837\n",
      "France           2827\n",
      "Mexico           2644\n",
      "Germany          2065\n",
      "Name: count, dtype: int64\n",
      "\n",
      " market - top 5:\n",
      "market\n",
      "APAC     11002\n",
      "LATAM    10294\n",
      "EU       10000\n",
      "US        9994\n",
      "EMEA      5029\n",
      "Name: count, dtype: int64\n",
      "\n",
      " region - top 5:\n",
      "region\n",
      "Central    11117\n",
      "South       6645\n",
      "EMEA        5029\n",
      "North       4785\n",
      "Africa      4587\n",
      "Name: count, dtype: int64\n",
      "\n",
      " product_id - top 5:\n",
      "product_id\n",
      "OFF-AR-10003651    35\n",
      "OFF-AR-10003829    31\n",
      "OFF-BI-10002799    30\n",
      "OFF-BI-10003708    30\n",
      "FUR-CH-10003354    28\n",
      "Name: count, dtype: int64\n",
      "\n",
      " category - top 5:\n",
      "category\n",
      "Office Supplies    31273\n",
      "Technology         10141\n",
      "Furniture           9876\n",
      "Name: count, dtype: int64\n",
      "\n",
      " sub_category - top 5:\n",
      "sub_category\n",
      "Binders    6152\n",
      "Storage    5059\n",
      "Art        4883\n",
      "Paper      3538\n",
      "Chairs     3434\n",
      "Name: count, dtype: int64\n",
      "\n",
      " product_name - top 5:\n",
      "product_name\n",
      "Staples                           227\n",
      "Cardinal Index Tab, Clear          92\n",
      "Eldon File Cart, Single Width      90\n",
      "Rogers File Cart, Single Width     84\n",
      "Ibico Index Tab, Clear             83\n",
      "Name: count, dtype: int64\n",
      "\n",
      " sales - top 5:\n",
      "sales\n",
      "13    589\n",
      "11    550\n",
      "14    527\n",
      "19    523\n",
      "17    520\n",
      "Name: count, dtype: int64\n",
      "\n",
      " order_priority - top 5:\n",
      "order_priority\n",
      "Medium      29433\n",
      "High        15501\n",
      "Critical     3932\n",
      "Low          2424\n",
      "Name: count, dtype: int64\n"
     ]
    }
   ],
   "source": [
    "quick_eda(original_df, name=\"SuperStoreOrders\")"
   ]
  },
  {
   "cell_type": "code",
   "execution_count": 13,
   "metadata": {},
   "outputs": [
    {
     "name": "stderr",
     "output_type": "stream",
     "text": [
      "/var/folders/xl/dlcxtfx92470hfts6qf0sr6h0000gn/T/ipykernel_1393/923024587.py:13: UserWarning: Parsing dates in %d-%m-%Y format when dayfirst=False (the default) was specified. Pass `dayfirst=True` or specify a format to silence this warning.\n",
      "  d2 = pd.to_datetime(original_df.loc[bad, col], errors='coerce')\n",
      "/var/folders/xl/dlcxtfx92470hfts6qf0sr6h0000gn/T/ipykernel_1393/923024587.py:13: UserWarning: Parsing dates in %d-%m-%Y format when dayfirst=False (the default) was specified. Pass `dayfirst=True` or specify a format to silence this warning.\n",
      "  d2 = pd.to_datetime(original_df.loc[bad, col], errors='coerce')\n"
     ]
    }
   ],
   "source": [
    "#order and ship date to date times, make sales data full numeric\n",
    "original_df['sales'] = pd.to_numeric(\n",
    "    original_df['sales']\n",
    "    .replace('[\\$,]', '', regex=True\n",
    "    ), errors='coerce'\n",
    ")\n",
    "\n",
    "for col in ['order_date', 'ship_date']:\n",
    "    d1 = pd.to_datetime(original_df[col], dayfirst=True, errors='coerce')  # DD-MM-YYYY, DD/MM/YYYY, etc.\n",
    "    bad = d1.isna()\n",
    "    if bad.any():\n",
    "        # fallback: try letting pandas infer other formats (e.g., MM/DD/YYYY)\n",
    "        d2 = pd.to_datetime(original_df.loc[bad, col], errors='coerce')\n",
    "        d1.loc[bad] = d2\n",
    "    original_df[col] = d1"
   ]
  },
  {
   "cell_type": "code",
   "execution_count": 14,
   "metadata": {},
   "outputs": [
    {
     "name": "stdout",
     "output_type": "stream",
     "text": [
      "order_date    0\n",
      "ship_date     0\n",
      "dtype: int64\n",
      "order_date   2011-01-01\n",
      "ship_date    2011-01-03\n",
      "dtype: datetime64[ns]\n",
      "order_date   2014-12-31\n",
      "ship_date    2015-01-07\n",
      "dtype: datetime64[ns]\n",
      "int64\n"
     ]
    }
   ],
   "source": [
    "print(original_df[['order_date','ship_date']].isna().sum())     # are there any not a time values left\n",
    "print(original_df[['order_date','ship_date']].min())            # earliest dates\n",
    "print(original_df[['order_date','ship_date']].max())            # latest dates\n",
    "print(original_df['sales'].dtype)                         "
   ]
  },
  {
   "cell_type": "code",
   "execution_count": 15,
   "metadata": {},
   "outputs": [
    {
     "data": {
      "text/plain": [
       "Index(['order_id', 'order_date', 'ship_date', 'ship_mode', 'customer_name',\n",
       "       'segment', 'state', 'country', 'market', 'region', 'product_id',\n",
       "       'category', 'sub_category', 'product_name', 'sales', 'quantity',\n",
       "       'discount', 'profit', 'shipping_cost', 'order_priority', 'year'],\n",
       "      dtype='object')"
      ]
     },
     "execution_count": 15,
     "metadata": {},
     "output_type": "execute_result"
    }
   ],
   "source": [
    "original_df.columns"
   ]
  },
  {
   "cell_type": "code",
   "execution_count": 16,
   "metadata": {},
   "outputs": [
    {
     "data": {
      "text/html": [
       "<div>\n",
       "<style scoped>\n",
       "    .dataframe tbody tr th:only-of-type {\n",
       "        vertical-align: middle;\n",
       "    }\n",
       "\n",
       "    .dataframe tbody tr th {\n",
       "        vertical-align: top;\n",
       "    }\n",
       "\n",
       "    .dataframe thead th {\n",
       "        text-align: right;\n",
       "    }\n",
       "</style>\n",
       "<table border=\"1\" class=\"dataframe\">\n",
       "  <thead>\n",
       "    <tr style=\"text-align: right;\">\n",
       "      <th></th>\n",
       "      <th>sales</th>\n",
       "      <th>profit</th>\n",
       "      <th>discount</th>\n",
       "      <th>quantity</th>\n",
       "    </tr>\n",
       "  </thead>\n",
       "  <tbody>\n",
       "    <tr>\n",
       "      <th>count</th>\n",
       "      <td>51290.000000</td>\n",
       "      <td>51290.000000</td>\n",
       "      <td>51290.000000</td>\n",
       "      <td>51290.000000</td>\n",
       "    </tr>\n",
       "    <tr>\n",
       "      <th>mean</th>\n",
       "      <td>246.498440</td>\n",
       "      <td>28.641740</td>\n",
       "      <td>0.142908</td>\n",
       "      <td>3.476545</td>\n",
       "    </tr>\n",
       "    <tr>\n",
       "      <th>std</th>\n",
       "      <td>487.567175</td>\n",
       "      <td>174.424113</td>\n",
       "      <td>0.212280</td>\n",
       "      <td>2.278766</td>\n",
       "    </tr>\n",
       "    <tr>\n",
       "      <th>min</th>\n",
       "      <td>0.000000</td>\n",
       "      <td>-6599.978000</td>\n",
       "      <td>0.000000</td>\n",
       "      <td>1.000000</td>\n",
       "    </tr>\n",
       "    <tr>\n",
       "      <th>25%</th>\n",
       "      <td>31.000000</td>\n",
       "      <td>0.000000</td>\n",
       "      <td>0.000000</td>\n",
       "      <td>2.000000</td>\n",
       "    </tr>\n",
       "    <tr>\n",
       "      <th>50%</th>\n",
       "      <td>85.000000</td>\n",
       "      <td>9.240000</td>\n",
       "      <td>0.000000</td>\n",
       "      <td>3.000000</td>\n",
       "    </tr>\n",
       "    <tr>\n",
       "      <th>75%</th>\n",
       "      <td>251.000000</td>\n",
       "      <td>36.810000</td>\n",
       "      <td>0.200000</td>\n",
       "      <td>5.000000</td>\n",
       "    </tr>\n",
       "    <tr>\n",
       "      <th>max</th>\n",
       "      <td>22638.000000</td>\n",
       "      <td>8399.976000</td>\n",
       "      <td>0.850000</td>\n",
       "      <td>14.000000</td>\n",
       "    </tr>\n",
       "  </tbody>\n",
       "</table>\n",
       "</div>"
      ],
      "text/plain": [
       "              sales        profit      discount      quantity\n",
       "count  51290.000000  51290.000000  51290.000000  51290.000000\n",
       "mean     246.498440     28.641740      0.142908      3.476545\n",
       "std      487.567175    174.424113      0.212280      2.278766\n",
       "min        0.000000  -6599.978000      0.000000      1.000000\n",
       "25%       31.000000      0.000000      0.000000      2.000000\n",
       "50%       85.000000      9.240000      0.000000      3.000000\n",
       "75%      251.000000     36.810000      0.200000      5.000000\n",
       "max    22638.000000   8399.976000      0.850000     14.000000"
      ]
     },
     "execution_count": 16,
     "metadata": {},
     "output_type": "execute_result"
    }
   ],
   "source": [
    "original_df[['sales', 'profit', 'discount', 'quantity']].describe()"
   ]
  },
  {
   "cell_type": "markdown",
   "metadata": {},
   "source": [
    "PROFIT ANALYZATION"
   ]
  },
  {
   "cell_type": "code",
   "execution_count": 17,
   "metadata": {},
   "outputs": [
    {
     "data": {
      "text/plain": [
       "category\n",
       "Furniture          286782.25380\n",
       "Office Supplies    518473.83430\n",
       "Technology         663778.73318\n",
       "Name: profit, dtype: float64"
      ]
     },
     "execution_count": 17,
     "metadata": {},
     "output_type": "execute_result"
    }
   ],
   "source": [
    "original_df.groupby('category')['profit'].sum()"
   ]
  },
  {
   "cell_type": "code",
   "execution_count": 18,
   "metadata": {},
   "outputs": [
    {
     "data": {
      "text/plain": [
       "sub_category\n",
       "Tables         -64083.38870\n",
       "Fasteners       11525.42410\n",
       "Labels          15010.51200\n",
       "Supplies        22583.26310\n",
       "Envelopes       29601.11630\n",
       "Furnishings     46967.42550\n",
       "Art             57953.91090\n",
       "Machines        58867.87300\n",
       "Paper           59207.68270\n",
       "Binders         72449.84600\n",
       "Storage        108461.48980\n",
       "Accessories    129626.30620\n",
       "Appliances     141680.58940\n",
       "Chairs         141973.79750\n",
       "Bookcases      161924.41950\n",
       "Phones         216717.00580\n",
       "Copiers        258567.54818\n",
       "Name: profit, dtype: float64"
      ]
     },
     "execution_count": 18,
     "metadata": {},
     "output_type": "execute_result"
    }
   ],
   "source": [
    "original_df.groupby('sub_category')['profit'].sum().sort_values()"
   ]
  },
  {
   "cell_type": "markdown",
   "metadata": {},
   "source": [
    "**TABLES are a problem 👆**"
   ]
  },
  {
   "cell_type": "code",
   "execution_count": 19,
   "metadata": {},
   "outputs": [
    {
     "data": {
      "text/html": [
       "<div>\n",
       "<style scoped>\n",
       "    .dataframe tbody tr th:only-of-type {\n",
       "        vertical-align: middle;\n",
       "    }\n",
       "\n",
       "    .dataframe tbody tr th {\n",
       "        vertical-align: top;\n",
       "    }\n",
       "\n",
       "    .dataframe thead th {\n",
       "        text-align: right;\n",
       "    }\n",
       "</style>\n",
       "<table border=\"1\" class=\"dataframe\">\n",
       "  <thead>\n",
       "    <tr style=\"text-align: right;\">\n",
       "      <th></th>\n",
       "      <th>discount</th>\n",
       "      <th>profit</th>\n",
       "    </tr>\n",
       "  </thead>\n",
       "  <tbody>\n",
       "    <tr>\n",
       "      <th>discount</th>\n",
       "      <td>1.000000</td>\n",
       "      <td>-0.316375</td>\n",
       "    </tr>\n",
       "    <tr>\n",
       "      <th>profit</th>\n",
       "      <td>-0.316375</td>\n",
       "      <td>1.000000</td>\n",
       "    </tr>\n",
       "  </tbody>\n",
       "</table>\n",
       "</div>"
      ],
      "text/plain": [
       "          discount    profit\n",
       "discount  1.000000 -0.316375\n",
       "profit   -0.316375  1.000000"
      ]
     },
     "execution_count": 19,
     "metadata": {},
     "output_type": "execute_result"
    }
   ],
   "source": [
    "original_df[['discount', 'profit']].corr()"
   ]
  },
  {
   "cell_type": "markdown",
   "metadata": {},
   "source": [
    "**Discounts are not helping, they are producing low profit but we could analyze sentiment**"
   ]
  },
  {
   "cell_type": "code",
   "execution_count": 20,
   "metadata": {},
   "outputs": [
    {
     "name": "stdout",
     "output_type": "stream",
     "text": [
      "12543 of negative orderse and  Percentage of negative orders is 24.46\n"
     ]
    }
   ],
   "source": [
    "#get the percentage of orders that are negative\n",
    "negative_orders = (original_df['profit'] < 0).sum()\n",
    "\n",
    "percentage_negative_orders = negative_orders / len(original_df) * 100\n",
    "\n",
    "print(f\"{negative_orders} of negative orderse and  Percentage of negative orders is {percentage_negative_orders:.2f}\")"
   ]
  },
  {
   "cell_type": "markdown",
   "metadata": {},
   "source": [
    "Insight thus far: This is a lot of negative orders we've uncovered. About 24% of the overall orders are producing a negative profit.  Table orders are the biggest culprit with 64k in negative revenue.  We also touched on the fact that discounts being present has a negative impact on profit. "
   ]
  },
  {
   "cell_type": "code",
   "execution_count": 21,
   "metadata": {},
   "outputs": [
    {
     "name": "stderr",
     "output_type": "stream",
     "text": [
      "/var/folders/xl/dlcxtfx92470hfts6qf0sr6h0000gn/T/ipykernel_1393/156166210.py:5: FutureWarning: \n",
      "\n",
      "Passing `palette` without assigning `hue` is deprecated and will be removed in v0.14.0. Assign the `y` variable to `hue` and set `legend=False` for the same effect.\n",
      "\n",
      "  sns.barplot(x=subcat_profit.values, y=subcat_profit.index, palette=\"coolwarm\")\n"
     ]
    },
    {
     "data": {
      "image/png": "[encoded data removed]",
      "text/plain": [
       "<Figure size 1000x600 with 1 Axes>"
      ]
     },
     "metadata": {},
     "output_type": "display_data"
    }
   ],
   "source": [
    "#Display the profit as it relates to sub-categories\n",
    "plt.figure(figsize=(10, 6))\n",
    "subcat_profit = original_df.groupby('sub_category')['profit'].sum().sort_values()\n",
    "\n",
    "sns.barplot(x=subcat_profit.values, y=subcat_profit.index, palette=\"coolwarm\")\n",
    "plt.title(\"Total Profit by Sub-Category\")\n",
    "plt.xlabel(\"Profit\")\n",
    "plt.ylabel(\"Sub-Category\")\n",
    "plt.axvline(0, color='black', linewidth=1)\n",
    "plt.show()"
   ]
  },
  {
   "cell_type": "markdown",
   "metadata": {},
   "source": [
    "WE have seen how the profit relates to different categories, lets dig into how discounts effect profit next. "
   ]
  },
  {
   "cell_type": "code",
   "execution_count": 22,
   "metadata": {},
   "outputs": [
    {
     "name": "stdout",
     "output_type": "stream",
     "text": [
      "discount_bins\n",
      "(0.0, 0.2]      46.838458\n",
      "(0.2, 0.4]     -42.883229\n",
      "(0.4, 0.6]     -80.599600\n",
      "(0.6, 0.8]    -110.221332\n",
      "(0.8, 1.0]   -1534.329000\n",
      "Name: profit, dtype: float64\n"
     ]
    },
    {
     "name": "stderr",
     "output_type": "stream",
     "text": [
      "/var/folders/xl/dlcxtfx92470hfts6qf0sr6h0000gn/T/ipykernel_1393/3774732108.py:3: FutureWarning: The default of observed=False is deprecated and will be changed to True in a future version of pandas. Pass observed=False to retain current behavior or observed=True to adopt the future default and silence this warning.\n",
      "  discounts_profit = original_df.groupby('discount_bins')['profit'].mean()\n"
     ]
    }
   ],
   "source": [
    "original_df['discount_bins'] = pd.cut(original_df['discount'], bins=[0, 0.2, 0.4, 0.6, 0.8, 1.0])\n",
    "\n",
    "discounts_profit = original_df.groupby('discount_bins')['profit'].mean()\n",
    "print(discounts_profit)"
   ]
  },
  {
   "cell_type": "markdown",
   "metadata": {},
   "source": [
    "** This is incredibly important information **\n",
    "Once you start get to 20% discounts, you start to lose money.  The higher the discounts are, the higher the loss. What is attributing to these discounts is an important piece of information that isn't clear though simply through general analysis.  What are 'discounts' are they promotions or sales? Also why are the discounts set up the way they are. If the strategy is re-thought the implications for improvement could be considerable."
   ]
  },
  {
   "cell_type": "code",
   "execution_count": 23,
   "metadata": {},
   "outputs": [
    {
     "name": "stderr",
     "output_type": "stream",
     "text": [
      "/var/folders/xl/dlcxtfx92470hfts6qf0sr6h0000gn/T/ipykernel_1393/2711404059.py:2: FutureWarning: \n",
      "\n",
      "Passing `palette` without assigning `hue` is deprecated and will be removed in v0.14.0. Assign the `x` variable to `hue` and set `legend=False` for the same effect.\n",
      "\n",
      "  sns.barplot(\n"
     ]
    },
    {
     "data": {
      "image/png": "[encoded data removed]",
      "text/plain": [
       "<Figure size 800x500 with 1 Axes>"
      ]
     },
     "metadata": {},
     "output_type": "display_data"
    }
   ],
   "source": [
    "plt.figure(figsize=(8,5))\n",
    "sns.barplot(\n",
    "    x=discounts_profit.index.astype(str),\n",
    "    y=discounts_profit.values,\n",
    "    palette='coolwarm'\n",
    ")\n",
    "\n",
    "plt.title(\"Average Profit by Discount Bin\", fontsize=14)\n",
    "plt.xlabel(\"Discount Range\", fontsize=12)\n",
    "plt.ylabel(\"Average Profit\", fontsize=12)\n",
    "plt.xticks(rotation=45)\n",
    "plt.axhline(0, color=\"black\", linestyle=\"--\")\n",
    "plt.show()"
   ]
  },
  {
   "cell_type": "code",
   "execution_count": 24,
   "metadata": {},
   "outputs": [
    {
     "name": "stdout",
     "output_type": "stream",
     "text": [
      "  sub_category discount_bins     profit\n",
      "0  Accessories    (0.0, 0.2]  33.922245\n",
      "1  Accessories    (0.2, 0.4] -31.226909\n",
      "2  Accessories    (0.4, 0.6] -83.585735\n",
      "3  Accessories    (0.6, 0.8] -74.871302\n",
      "4  Accessories    (0.8, 1.0]        NaN\n"
     ]
    },
    {
     "name": "stderr",
     "output_type": "stream",
     "text": [
      "/var/folders/xl/dlcxtfx92470hfts6qf0sr6h0000gn/T/ipykernel_1393/2856347552.py:2: FutureWarning: The default of observed=False is deprecated and will be changed to True in a future version of pandas. Pass observed=False to retain current behavior or observed=True to adopt the future default and silence this warning.\n",
      "  original_df\n"
     ]
    }
   ],
   "source": [
    "discount_subcat_profit = (\n",
    "    original_df\n",
    "    .groupby(['sub_category', 'discount_bins'])['profit']\n",
    "    .mean()\n",
    "    .reset_index()\n",
    ")\n",
    "\n",
    "print(discount_subcat_profit.head())\n"
   ]
  },
  {
   "cell_type": "markdown",
   "metadata": {},
   "source": [
    "Show the subcategories and their related discount bins performance.  This analysis will show which subcategories are still profitable or unprofitable as it relates to the amount of discount associated: "
   ]
  },
  {
   "cell_type": "code",
   "execution_count": 25,
   "metadata": {},
   "outputs": [
    {
     "name": "stderr",
     "output_type": "stream",
     "text": [
      "/var/folders/xl/dlcxtfx92470hfts6qf0sr6h0000gn/T/ipykernel_1393/483002303.py:10: FutureWarning: The default of observed=False is deprecated and will be changed to True in a future version of pandas. Pass observed=False to retain current behavior or observed=True to adopt the future default and silence this warning.\n",
      "  original_df\n"
     ]
    },
    {
     "data": {
      "image/png": "[encoded data removed]",
      "text/plain": [
       "<Figure size 800x500 with 2 Axes>"
      ]
     },
     "metadata": {},
     "output_type": "display_data"
    }
   ],
   "source": [
    "original_df['discount_bins'] = pd.cut(\n",
    "    original_df['discount'],\n",
    "    bins=[0, 0.2, 0.4, 0.6, 0.8, 1.0],\n",
    "    labels=['0–20%', '20–40%', '40–60%', '60–80%', '80–100%'],\n",
    "    include_lowest=True\n",
    ")\n",
    "\n",
    "# Group by sub-category and discount bin to average profit\n",
    "profit_table = (\n",
    "    original_df\n",
    "    .groupby(['sub_category','discount_bins'])['profit']\n",
    "    .mean()\n",
    "    .unstack()        # makes discount bins into columns\n",
    ")\n",
    "\n",
    "# NaNs are left blank automatically\n",
    "plt.figure(figsize=(8,5))\n",
    "sns.heatmap(profit_table, annot=True, fmt=\".0f\", cmap=\"RdBu\", center=0,\n",
    "            cbar_kws={'label': 'Avg Profit'})\n",
    "plt.title(\"Average Profit by Sub-Category and Discount Level\")\n",
    "plt.xlabel(\"Discount Bin\")\n",
    "plt.ylabel(\"Sub-Category\")\n",
    "plt.show()"
   ]
  },
  {
   "cell_type": "markdown",
   "metadata": {},
   "source": [
    "The above heatmap shows that generally any discount with a 20% discount or higher are not good but some categories are considerably better than others.  For example, Tables over all are terrible but should really stay away from higher discounts. "
   ]
  },
  {
   "cell_type": "code",
   "execution_count": 27,
   "metadata": {},
   "outputs": [
    {
     "name": "stdout",
     "output_type": "stream",
     "text": [
      "Subcategories most hurt by discounts:\n",
      "sub_category\n",
      "Labels          16.886621\n",
      "Fasteners       21.249391\n",
      "Envelopes       43.333031\n",
      "Art             43.485457\n",
      "Paper           43.874067\n",
      "Binders         45.279162\n",
      "Supplies        51.734840\n",
      "Furnishings     79.914174\n",
      "Storage        118.871862\n",
      "Accessories    150.449771\n",
      "Chairs         248.975985\n",
      "Machines       291.942374\n",
      "Phones         324.040437\n",
      "Copiers        336.510062\n",
      "Bookcases      358.890180\n",
      "Appliances     413.077049\n",
      "Tables         505.183499\n",
      "dtype: float64\n"
     ]
    },
    {
     "name": "stderr",
     "output_type": "stream",
     "text": [
      "/var/folders/xl/dlcxtfx92470hfts6qf0sr6h0000gn/T/ipykernel_1393/1724245125.py:10: FutureWarning: \n",
      "\n",
      "Passing `palette` without assigning `hue` is deprecated and will be removed in v0.14.0. Assign the `y` variable to `hue` and set `legend=False` for the same effect.\n",
      "\n",
      "  sns.barplot(x=sensitivity.values, y=sensitivity.index, palette=\"coolwarm\")\n"
     ]
    },
    {
     "data": {
      "image/png": "[encoded data removed]",
      "text/plain": [
       "<Figure size 800x500 with 1 Axes>"
      ]
     },
     "metadata": {},
     "output_type": "display_data"
    }
   ],
   "source": [
    "sensitivity = (\n",
    "    profit_table['0–20%'] - profit_table['40–60%']\n",
    ").sort_values(ascending=True)\n",
    "\n",
    "print(\"Subcategories most hurt by discounts:\")\n",
    "print(sensitivity)\n",
    "\n",
    "# Plot ranking\n",
    "plt.figure(figsize=(8,5))\n",
    "sns.barplot(x=sensitivity.values, y=sensitivity.index, palette=\"coolwarm\")\n",
    "plt.title(\"Profit Sensitivity to Discounts (0–20% vs 40–60%)\")\n",
    "plt.xlabel(\"Profit Difference\")\n",
    "plt.ylabel(\"Sub-Category\")\n",
    "plt.show()\n"
   ]
  },
  {
   "cell_type": "code",
   "execution_count": 28,
   "metadata": {},
   "outputs": [
    {
     "name": "stdout",
     "output_type": "stream",
     "text": [
      "Subcategories with discount 'sweet spots':\n",
      "Empty DataFrame\n",
      "Columns: [0–20%, 20–40%]\n",
      "Index: []\n"
     ]
    }
   ],
   "source": [
    "# Find subcategories where some discounts are still beneficial. \n",
    "sweet_spots = profit_table[\n",
    "    profit_table['20–40%'] > profit_table['0–20%']\n",
    "]\n",
    "\n",
    "print(\"Subcategories with discount 'sweet spots':\")\n",
    "print(sweet_spots[['0–20%', '20–40%']])\n"
   ]
  },
  {
   "cell_type": "markdown",
   "metadata": {},
   "source": [
    "The above is an important note.  We see here that no subcategory actually had a higher profit margin with higher discounts.  This means that the discount values that get higher bite into the profits considerably. "
   ]
  },
  {
   "cell_type": "markdown",
   "metadata": {},
   "source": [
    "////"
   ]
  },
  {
   "cell_type": "code",
   "execution_count": 31,
   "metadata": {},
   "outputs": [
    {
     "data": {
      "image/png": "[encoded data removed]",
      "text/plain": [
       "<Figure size 800x500 with 1 Axes>"
      ]
     },
     "metadata": {},
     "output_type": "display_data"
    }
   ],
   "source": [
    "region_segment = (\n",
    "    original_df.groupby(['region', 'segment'])['profit']\n",
    "    .sum()\n",
    "    .reset_index()\n",
    "    )\n",
    "\n",
    "plt.figure(figsize=(8,5))\n",
    "sns.barplot(data=region_segment, x='region', y='profit', hue='segment')\n",
    "plt.title(\"Total Profit by Region and Customer Segment\")\n",
    "plt.ylabel(\"Total Profit\")\n",
    "plt.xticks(rotation=45)\n",
    "plt.show()"
   ]
  },
  {
   "cell_type": "markdown",
   "metadata": {},
   "source": [
    "The above is immensely helpful, it breaks down bracket by region so we can see where do we improve and what are we doing right in certain places.  Maybe there are certain things we are doing in Central America that we aren't doing in Canada or South East Asia that we could be doing better? ETC"
   ]
  },
  {
   "cell_type": "code",
   "execution_count": 32,
   "metadata": {},
   "outputs": [
    {
     "data": {
      "image/png": "[encoded data removed]",
      "text/plain": [
       "<Figure size 1000x600 with 1 Axes>"
      ]
     },
     "metadata": {},
     "output_type": "display_data"
    }
   ],
   "source": [
    "subcat_summary = (\n",
    "    original_df.groupby('sub_category')[['sales','profit']]\n",
    "    .sum()\n",
    "    .sort_values('sales', ascending=False)\n",
    "    .head(10)\n",
    ")\n",
    "\n",
    "subcat_summary.plot(kind='bar', figsize=(10,6))\n",
    "plt.title(\"Top 10 Subcategories: Sales vs Profit\")\n",
    "plt.ylabel(\"Amount\")\n",
    "plt.show()\n"
   ]
  },
  {
   "cell_type": "markdown",
   "metadata": {},
   "source": [
    "Above we see the sales and their associated profits by sub-category.  It might be time to reconsider selling tables."
   ]
  },
  {
   "cell_type": "markdown",
   "metadata": {},
   "source": [
    "OK NOW THAT WE HAVE THE INSIGHTS I WANTED AND THE DATA CLEANED, LETS PREP SOME CSV'S TO MOVE OVER TO TABLEAU"
   ]
  },
  {
   "cell_type": "markdown",
   "metadata": {},
   "source": [
    "KPI'S FIRST"
   ]
  },
  {
   "cell_type": "code",
   "execution_count": 33,
   "metadata": {},
   "outputs": [],
   "source": [
    "kpi_df = pd.DataFrame({\n",
    "    \"Total_Sales\": [original_df['sales'].sum()],\n",
    "    \"Total_Profit\": [original_df['profit'].sum()],\n",
    "    \"Profit_Margin\": [original_df['profit'].sum() / original_df['sales'].sum()],\n",
    "    \"Discounted_Sales_Pct\": [\n",
    "        original_df.loc[original_df['discount'] > 0, 'sales'].sum() / original_df['sales'].sum()\n",
    "    ]\n",
    "})\n",
    "\n",
    "kpi_df.to_csv(\"kpis.csv\", index=False)"
   ]
  },
  {
   "cell_type": "markdown",
   "metadata": {},
   "source": [
    "PROFITABILITY BY SUBCATEGORY AND DISCOUNT BIN"
   ]
  },
  {
   "cell_type": "code",
   "execution_count": 34,
   "metadata": {},
   "outputs": [],
   "source": [
    "profit_table.to_csv(\"profit_by_subcategory_discount.csv\")\n"
   ]
  },
  {
   "cell_type": "markdown",
   "metadata": {},
   "source": [
    "TOP 10 SUBCATEGORIES - SALES AND RELATED PROFIT"
   ]
  },
  {
   "cell_type": "code",
   "execution_count": 35,
   "metadata": {},
   "outputs": [],
   "source": [
    "subcat_summary.to_csv(\"top10_subcategories_sales_profit.csv\")\n"
   ]
  },
  {
   "cell_type": "markdown",
   "metadata": {},
   "source": [
    "REGION / SEGMENT / PROFIT"
   ]
  },
  {
   "cell_type": "code",
   "execution_count": 36,
   "metadata": {},
   "outputs": [],
   "source": [
    "region_segment.to_csv(\"profit_by_region_segment.csv\", index=False)\n"
   ]
  },
  {
   "cell_type": "code",
   "execution_count": 38,
   "metadata": {},
   "outputs": [
    {
     "name": "stdout",
     "output_type": "stream",
     "text": [
      "✅ Master CSV saved as superstore_master.csv\n"
     ]
    }
   ],
   "source": [
    "#Combine to master CSV for Tableau\n",
    "\n",
    "# Heatmap (profit by subcategory & discount bin)\n",
    "heatmap_df = profit_table.reset_index().melt(\n",
    "    id_vars='sub_category',\n",
    "    var_name='Discount Bin',\n",
    "    value_name='Profit'\n",
    ")\n",
    "heatmap_df['View'] = 'Heatmap'\n",
    "\n",
    "# Top 10 Subcategories (Sales vs Profit)\n",
    "subcat_summary_reset = subcat_summary.reset_index()\n",
    "top10_df = subcat_summary_reset.melt(\n",
    "    id_vars='sub_category',\n",
    "    var_name='Metric',\n",
    "    value_name='Value'\n",
    ")\n",
    "top10_df['View'] = 'Top10'\n",
    "\n",
    "# Region x Segment x Profit\n",
    "region_segment_df = region_segment.copy()\n",
    "region_segment_df['View'] = 'RegionSegment'\n",
    "\n",
    "# KPIs\n",
    "kpi_long = kpi_df.melt(var_name='KPI_Name', value_name='KPI_Value')\n",
    "kpi_long['View'] = 'KPI'\n",
    "\n",
    "# Combine all into one master CSV \n",
    "master_df = pd.concat([\n",
    "    heatmap_df,\n",
    "    top10_df,\n",
    "    region_segment_df,\n",
    "    kpi_long\n",
    "], ignore_index=True)\n",
    "\n",
    "# Save for Tableau\n",
    "master_df.to_csv(\"superstore_master.csv\", index=False)\n",
    "\n",
    "print(\"✅ Master CSV saved as superstore_master.csv\")"
   ]
  }
 ],
 "metadata": {
  "kernelspec": {
   "display_name": ".venv",
   "language": "python",
   "name": "python3"
  },
  "language_info": {
   "codemirror_mode": {
    "name": "ipython",
    "version": 3
   },
   "file_extension": ".py",
   "mimetype": "text/x-python",
   "name": "python",
   "nbconvert_exporter": "python",
   "pygments_lexer": "ipython3",
   "version": "3.9.6"
  }
 },
 "nbformat": 4,
 "nbformat_minor": 2
}
